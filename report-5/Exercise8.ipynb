{
 "cells": [
  {
   "cell_type": "markdown",
   "id": "6080af38",
   "metadata": {
    "slideshow": {
     "slide_type": "slide"
    }
   },
   "source": [
    "# Univariate Analysis"
   ]
  },
  {
   "cell_type": "markdown",
   "id": "0d5d00f6",
   "metadata": {},
   "source": [
    "## Looking ahead: April Week 4, May Week 1\n",
    "\n",
    "- In the end of April and early May, we'll dive deep into **statistics** finally.  \n",
    "  - How do we calculate descriptive statistics in Python?\n",
    "  - What principles should we keep in mind?\n",
    "\n",
    "Univariate analysis is a type of statistical analysis that involves examining the distribution and characteristics of a single variable. The prefix “uni-” means “one,” so univariate analysis focuses on one variable at a time, without considering relationships between variables.\n",
    "\n",
    "Univariate analysis is the foundation of data analysis and is essential for understanding the basic structure of your data before moving on to more complex techniques like bivariate or multivariate analysis."
   ]
  },
  {
   "cell_type": "markdown",
   "id": "429df547",
   "metadata": {},
   "source": [
    "# Measurement scales\n",
    "\n",
    "Measurement scales determine what mathematical and statistical operations can be performed on data. There are four basic types of scales:\n",
    "\n",
    "1. **Nominal** scale\n",
    "- Data is used only for naming or categorizing.\n",
    "- The order between values cannot be determined.\n",
    "- Possible operations: count, mode, frequency analysis.\n",
    "\n",
    "Examples:\n",
    "- Pokémon type (type_1): “fire”, ‘water’, ‘grass’, etc.\n",
    "- Species, gender, colors, brands etc."
   ]
  },
  {
   "cell_type": "code",
   "id": "3de6b648",
   "metadata": {
    "ExecuteTime": {
     "end_time": "2025-05-11T18:56:36.226432Z",
     "start_time": "2025-05-11T18:56:36.220294Z"
    }
   },
   "source": [
    "import pandas as pd\n",
    "df_pokemon = pd.read_csv(\"data/pokemon.csv\")\n",
    "df_pokemon[\"Type 1\"].value_counts()"
   ],
   "outputs": [
    {
     "data": {
      "text/plain": [
       "Type 1\n",
       "Water       112\n",
       "Normal       98\n",
       "Grass        70\n",
       "Bug          69\n",
       "Psychic      57\n",
       "Fire         52\n",
       "Electric     44\n",
       "Rock         44\n",
       "Dragon       32\n",
       "Ground       32\n",
       "Ghost        32\n",
       "Dark         31\n",
       "Poison       28\n",
       "Steel        27\n",
       "Fighting     27\n",
       "Ice          24\n",
       "Fairy        17\n",
       "Flying        4\n",
       "Name: count, dtype: int64"
      ]
     },
     "execution_count": 69,
     "metadata": {},
     "output_type": "execute_result"
    }
   ],
   "execution_count": 69
  },
  {
   "cell_type": "markdown",
   "id": "cff31b52",
   "metadata": {},
   "source": [
    "2. **Ordinal** scale\n",
    "- Data can be ordered, but the distances between them are not known.\n",
    "- Possible operations: median, quantiles, rank tests (e.g. Spearman)."
   ]
  },
  {
   "cell_type": "markdown",
   "id": "c17b5aee",
   "metadata": {},
   "source": [
    "Examples:\n",
    "- Strength level: \"low\", \"medium\", \"high\".\n",
    "- Quality ratings: \"weak\", \"good\", \"very good\"."
   ]
  },
  {
   "cell_type": "code",
   "id": "b3dce4ca",
   "metadata": {
    "ExecuteTime": {
     "end_time": "2025-05-11T18:56:36.267378Z",
     "start_time": "2025-05-11T18:56:36.259790Z"
    }
   },
   "source": [
    "import seaborn as sns\n",
    "\n",
    "titanic = sns.load_dataset(\"titanic\")\n",
    "\n",
    "print(titanic[\"class\"].unique())"
   ],
   "outputs": [
    {
     "name": "stdout",
     "output_type": "stream",
     "text": [
      "['Third', 'First', 'Second']\n",
      "Categories (3, object): ['First', 'Second', 'Third']\n"
     ]
    }
   ],
   "execution_count": 70
  },
  {
   "cell_type": "markdown",
   "id": "1205928a",
   "metadata": {},
   "source": [
    "3. **Interval** scale\n",
    "- The data is numerical, with equal intervals, but lacks an absolute zero.\n",
    "- Differences, mean, and standard deviation can be calculated.\n",
    "- Ratios (e.g., \"twice as much\") do not make sense.\n",
    "\n",
    "Examples:\n",
    "- Temperature in °C (but not in Kelvin!). Why? There is no absolute zero—zero does not mean the absence of the property; it is just a conventional reference point. 0°C does not mean no temperature; 20°C is not 2 × 10°C.\n",
    "- Year in a calendar (e.g., 1990). Why? Year 0 does not mark the beginning of time; 2000 is not 2 × 1000.\n",
    "- Time in the hourly system (e.g., 13:00). Why? 0:00 does not mean no time, but rather an established reference point.\n",
    "\n",
    "4. **Ratio** scale\n",
    "- Numerical data with an absolute zero.\n",
    "- All mathematical operations, including division, can be performed.\n",
    "  \n",
    "> **Not all numerical data is on a ratio scale!** For example, temperature in degrees Celsius is not on a ratio scale because 0°C does not mean the absence of temperature. However, temperature in Kelvin (K) is, as 0 K represents the absolute absence of thermal energy.\n",
    "\n",
    "Examples:\n",
    "- Height, weight, number of Pokémon attack points (attack), HP, speed."
   ]
  },
  {
   "cell_type": "code",
   "id": "8bb64fd1",
   "metadata": {
    "ExecuteTime": {
     "end_time": "2025-05-11T18:56:36.327439Z",
     "start_time": "2025-05-11T18:56:36.318487Z"
    }
   },
   "source": [
    "df_pokemon[[\"HP\", \"Attack\", \"Speed\"]].describe()"
   ],
   "outputs": [
    {
     "data": {
      "text/plain": [
       "               HP      Attack       Speed\n",
       "count  800.000000  800.000000  800.000000\n",
       "mean    69.258750   79.001250   68.277500\n",
       "std     25.534669   32.457366   29.060474\n",
       "min      1.000000    5.000000    5.000000\n",
       "25%     50.000000   55.000000   45.000000\n",
       "50%     65.000000   75.000000   65.000000\n",
       "75%     80.000000  100.000000   90.000000\n",
       "max    255.000000  190.000000  180.000000"
      ],
      "text/html": [
       "<div>\n",
       "<style scoped>\n",
       "    .dataframe tbody tr th:only-of-type {\n",
       "        vertical-align: middle;\n",
       "    }\n",
       "\n",
       "    .dataframe tbody tr th {\n",
       "        vertical-align: top;\n",
       "    }\n",
       "\n",
       "    .dataframe thead th {\n",
       "        text-align: right;\n",
       "    }\n",
       "</style>\n",
       "<table border=\"1\" class=\"dataframe\">\n",
       "  <thead>\n",
       "    <tr style=\"text-align: right;\">\n",
       "      <th></th>\n",
       "      <th>HP</th>\n",
       "      <th>Attack</th>\n",
       "      <th>Speed</th>\n",
       "    </tr>\n",
       "  </thead>\n",
       "  <tbody>\n",
       "    <tr>\n",
       "      <th>count</th>\n",
       "      <td>800.000000</td>\n",
       "      <td>800.000000</td>\n",
       "      <td>800.000000</td>\n",
       "    </tr>\n",
       "    <tr>\n",
       "      <th>mean</th>\n",
       "      <td>69.258750</td>\n",
       "      <td>79.001250</td>\n",
       "      <td>68.277500</td>\n",
       "    </tr>\n",
       "    <tr>\n",
       "      <th>std</th>\n",
       "      <td>25.534669</td>\n",
       "      <td>32.457366</td>\n",
       "      <td>29.060474</td>\n",
       "    </tr>\n",
       "    <tr>\n",
       "      <th>min</th>\n",
       "      <td>1.000000</td>\n",
       "      <td>5.000000</td>\n",
       "      <td>5.000000</td>\n",
       "    </tr>\n",
       "    <tr>\n",
       "      <th>25%</th>\n",
       "      <td>50.000000</td>\n",
       "      <td>55.000000</td>\n",
       "      <td>45.000000</td>\n",
       "    </tr>\n",
       "    <tr>\n",
       "      <th>50%</th>\n",
       "      <td>65.000000</td>\n",
       "      <td>75.000000</td>\n",
       "      <td>65.000000</td>\n",
       "    </tr>\n",
       "    <tr>\n",
       "      <th>75%</th>\n",
       "      <td>80.000000</td>\n",
       "      <td>100.000000</td>\n",
       "      <td>90.000000</td>\n",
       "    </tr>\n",
       "    <tr>\n",
       "      <th>max</th>\n",
       "      <td>255.000000</td>\n",
       "      <td>190.000000</td>\n",
       "      <td>180.000000</td>\n",
       "    </tr>\n",
       "  </tbody>\n",
       "</table>\n",
       "</div>"
      ]
     },
     "execution_count": 71,
     "metadata": {},
     "output_type": "execute_result"
    }
   ],
   "execution_count": 71
  },
  {
   "cell_type": "markdown",
   "id": "de2eba24",
   "metadata": {},
   "source": [
    "### Table: Measurement scales in statistics\n",
    "\n",
    "| Scale          | Example                           | Is it possible to order? | Equal spacing? | Absolute zero? | Sample statistical calculations       |\n",
    "|----------------|-------------------------------------|--------------------------|----------------|------------------|------------------------------------------|\n",
    "| **Nominal**  | Pokémon type (`fire`, `water` etc.)| ❌                       | ❌             | ❌               | Mode, counts, frequency analysis      |\n",
    "| **Ordinal** | Ticket class (`First`, `Second`, `Third`) | ✅                       | ❌             | ❌               | Median, quantiles         |\n",
    "| **Interval** | Temperature in °C                  | ✅                       | ✅             | ❌               | Mean, standard deviation         |\n",
    "| **Ratio**  | HP, attack, height                   | ✅                       | ✅             | ✅               | All mathematical operations/statistical |"
   ]
  },
  {
   "cell_type": "markdown",
   "id": "2aa5d8e9",
   "metadata": {},
   "source": [
    "**Conclusion**: The type of scale affects the choice of statistical methods - for example, the Pearson correlation test requires quotient or interval data, while the Chi² test requires nominal data."
   ]
  },
  {
   "cell_type": "markdown",
   "id": "d25856a6",
   "metadata": {},
   "source": [
    "![title](img/scales.jpg)"
   ]
  },
  {
   "cell_type": "markdown",
   "id": "80997cda",
   "metadata": {},
   "source": [
    "### Quiz: measurement scales in statistics.\n",
    "\n",
    "Answer the following questions by choosing **one correct answer**. You will find the solutions at the end.\n",
    "\n",
    "---\n",
    "\n",
    "#### 1. Which scale **enables ordering of data**, but **does not have equal spacing**?\n",
    "- A) Nominal  \n",
    "- B) Ordinal  \n",
    "- C) Interval  \n",
    "- D) Ratio  \n",
    "\n",
    "---\n",
    "\n",
    "#### 2. An example of a variable on the **nominal scale** is:\n",
    "- A) Temperature in °C  \n",
    "- B) Height  \n",
    "- C) Type of Pokémon (`fire`, `grass`, `water`)  \n",
    "- D) Satisfaction level (`low`, `medium`, `high`).  \n",
    "\n",
    "---\n",
    "\n",
    "#### 3. Which scale **does not have absolute zero**, but has **equal spacing**?\n",
    "- A) Ratio  \n",
    "- B) Ordinal  \n",
    "- C) Interval  \n",
    "- D) Nominal  \n",
    "\n",
    "---\n",
    "\n",
    "#### 4. What operations are **allowed** on variables **on an ordinal scale**?\n",
    "- A) Mean and standard deviation  \n",
    "- B) Mode and Pearson correlation  \n",
    "- C) Median and rank tests  \n",
    "- D) Quotients and logarithms  \n",
    "\n",
    "---\n",
    "\n",
    "#### 5. The variable `“class”` in the Titanic set (`First`, `Second`, `Third`) is an example:\n",
    "- A) Nominal scale  \n",
    "- B) Ratio scale  \n",
    "- C) Interval scale  \n",
    "- D) Ordinal scale  \n",
    "\n",
    "---"
   ]
  },
  {
   "cell_type": "markdown",
   "id": "7387c120",
   "metadata": {},
   "source": [
    "# Descriptive statistics\n",
    "\n",
    "**Descriptive statistics** deals with the description of the distribution of data in a sample. Descriptive statistics give us basic summary measures about a set of data. Summary measures include measures of central tendency (mean, median and mode) and measures of variability (variance, standard deviation, minimum/maximum values, IQR (interquartile range), skewness and kurtosis)."
   ]
  },
  {
   "cell_type": "markdown",
   "id": "118f7491",
   "metadata": {
    "slideshow": {
     "slide_type": "slide"
    }
   },
   "source": [
    "## This week\n",
    "\n",
    "Now we're going to look at **describing** our data - as well as the **basics of statistics**.\n",
    "\n",
    "There are many ways to *describe* a distribution. \n",
    "\n",
    "Here we will discuss:\n",
    "- Measures of **central tendency**: what is the typical value in this distribution?\n",
    "- Measures of **variability**: how much do the values differ from each other?  \n",
    "- Measures of **skewness**: how strong is the asymmetry of the distribution?\n",
    "- Measures of **curvature**: what is the intensity of extreme values?"
   ]
  },
  {
   "cell_type": "code",
   "id": "62f5c475",
   "metadata": {
    "slideshow": {
     "slide_type": "-"
    },
    "ExecuteTime": {
     "end_time": "2025-05-11T18:56:36.405762Z",
     "start_time": "2025-05-11T18:56:36.402118Z"
    }
   },
   "source": [
    "import numpy as np\n",
    "import matplotlib.pyplot as plt\n",
    "import seaborn as sns \n",
    "import scipy.stats as stats"
   ],
   "outputs": [],
   "execution_count": 72
  },
  {
   "cell_type": "code",
   "id": "4284a34d",
   "metadata": {
    "slideshow": {
     "slide_type": "-"
    },
    "ExecuteTime": {
     "end_time": "2025-05-11T18:56:36.468979Z",
     "start_time": "2025-05-11T18:56:36.464869Z"
    }
   },
   "source": [
    "%matplotlib inline \n",
    "%config InlineBackend.figure_format = 'retina'"
   ],
   "outputs": [],
   "execution_count": 73
  },
  {
   "cell_type": "markdown",
   "id": "bd7f172b",
   "metadata": {
    "slideshow": {
     "slide_type": "slide"
    }
   },
   "source": [
    "## Central tendency\n",
    "\n",
    "The **central tendency** refers to the “typical value” in a distribution.\n",
    "\n",
    "The **central tendency** refers to the central value that describes the distribution of a variable. It can also be referred to as the center or location of the distribution. The most common measures of central tendency are **average**, **median** and **mode**. The most common measure of central tendency is the **mean**. In the case of skewed distributions or when there is concern about outliers, the **median** may be preferred. The median is thus a more reliable measure than the mean.\n",
    "\n",
    "There are many ways to *measure* what is “typical” - average:\n",
    "\n",
    "- Arithmetic mean\n",
    "- Median (middle value)\n",
    "- Mode (dominant)"
   ]
  },
  {
   "cell_type": "markdown",
   "id": "38ebfe72",
   "metadata": {
    "slideshow": {
     "slide_type": "slide"
    }
   },
   "source": [
    "### Why is this useful?\n",
    "\n",
    "- A dataset may contain *many* observations.  \n",
    "   - For example, $N$ = $5000$ of survey responses regarding `height'.  \n",
    "- One way to “describe” this distribution is to **visualize** it.  \n",
    "- But it is also helpful to reduce this distribution to a *single number*.\n",
    "\n",
    "This is necessarily a **simplification** of our dataset!"
   ]
  },
  {
   "cell_type": "markdown",
   "id": "51fb4bc4",
   "metadata": {
    "slideshow": {
     "slide_type": "slide"
    }
   },
   "source": [
    "### *Arithmetic average*\n",
    "\n",
    "> **Arithmetic average** is defined as the `sum` of all values in a distribution, divided by the number of observations in that distribution."
   ]
  },
  {
   "cell_type": "code",
   "id": "8af89a86",
   "metadata": {
    "slideshow": {
     "slide_type": "-"
    },
    "ExecuteTime": {
     "end_time": "2025-05-11T18:56:36.523991Z",
     "start_time": "2025-05-11T18:56:36.519554Z"
    }
   },
   "source": [
    "numbers = [1, 2, 3, 4]\n",
    "### calculating manually...\n",
    "sum(numbers)/len(numbers)"
   ],
   "outputs": [
    {
     "data": {
      "text/plain": [
       "2.5"
      ]
     },
     "execution_count": 74,
     "metadata": {},
     "output_type": "execute_result"
    }
   ],
   "execution_count": 74
  },
  {
   "cell_type": "markdown",
   "id": "099ff77c",
   "metadata": {},
   "source": [
    "- The most common measure of central tendency is the average.\n",
    "- The mean is also known as the simple average.\n",
    "- It is denoted by the Greek letter $µ$ for a population and $\\bar{x}$ for a sample.\n",
    "- We can find the average of the number of elements by adding all the elements in the data set and then dividing by the number of elements in the data set.\n",
    "- This is the most popular measure of central tendency, but it has a drawback.\n",
    "- The average is affected by the presence of outliers.\n",
    "- Thus, the average alone is not sufficient for making business decisions.\n",
    "\n",
    "$$\n",
    "\\bar{x} = \\frac{1}{n} \\sum_{i=1}^{n} x_i\n",
    "$$\n",
    "\n"
   ]
  },
  {
   "cell_type": "markdown",
   "id": "4cf883d3",
   "metadata": {
    "slideshow": {
     "slide_type": "slide"
    }
   },
   "source": [
    "#### `numpy.mean`\n",
    "\n",
    "The `numpy` package has a function that calculates an `average` on a `list` or `numpy.ndarray`."
   ]
  },
  {
   "cell_type": "code",
   "id": "9d5aa3bd",
   "metadata": {
    "slideshow": {
     "slide_type": "-"
    },
    "ExecuteTime": {
     "end_time": "2025-05-11T18:56:36.579831Z",
     "start_time": "2025-05-11T18:56:36.575257Z"
    }
   },
   "source": [
    "np.mean(numbers)"
   ],
   "outputs": [
    {
     "data": {
      "text/plain": [
       "np.float64(2.5)"
      ]
     },
     "execution_count": 75,
     "metadata": {},
     "output_type": "execute_result"
    }
   ],
   "execution_count": 75
  },
  {
   "cell_type": "markdown",
   "id": "0bc40dd0",
   "metadata": {},
   "source": [
    "#### `scipy.stats.tmean`\n",
    "\n",
    "The [scipy.stats](https://docs.scipy.org/doc/scipy/tutorial/stats.html) library has a variety of statistical functions."
   ]
  },
  {
   "cell_type": "code",
   "id": "0a535063",
   "metadata": {
    "ExecuteTime": {
     "end_time": "2025-05-11T18:56:36.619851Z",
     "start_time": "2025-05-11T18:56:36.615474Z"
    }
   },
   "source": [
    "stats.tmean(numbers)"
   ],
   "outputs": [
    {
     "data": {
      "text/plain": [
       "np.float64(2.5)"
      ]
     },
     "execution_count": 76,
     "metadata": {},
     "output_type": "execute_result"
    }
   ],
   "execution_count": 76
  },
  {
   "cell_type": "markdown",
   "id": "3aa7d518",
   "metadata": {
    "slideshow": {
     "slide_type": "slide"
    }
   },
   "source": [
    "#### Calculating the `average` of a `pandas` column.\n",
    "\n",
    "If we work with `DataFrame`, we can calculate the `average` of specific columns."
   ]
  },
  {
   "cell_type": "code",
   "id": "125f290b",
   "metadata": {
    "slideshow": {
     "slide_type": "-"
    },
    "ExecuteTime": {
     "end_time": "2025-05-11T18:56:36.667630Z",
     "start_time": "2025-05-11T18:56:36.658973Z"
    }
   },
   "source": [
    "import pandas as pd\n",
    "df_gapminder = pd.read_csv(\"data/gapminder_full.csv\")\n",
    "df_gapminder.head(2)"
   ],
   "outputs": [
    {
     "data": {
      "text/plain": [
       "       country  year  population continent  life_exp     gdp_cap\n",
       "0  Afghanistan  1952     8425333      Asia    28.801  779.445314\n",
       "1  Afghanistan  1957     9240934      Asia    30.332  820.853030"
      ],
      "text/html": [
       "<div>\n",
       "<style scoped>\n",
       "    .dataframe tbody tr th:only-of-type {\n",
       "        vertical-align: middle;\n",
       "    }\n",
       "\n",
       "    .dataframe tbody tr th {\n",
       "        vertical-align: top;\n",
       "    }\n",
       "\n",
       "    .dataframe thead th {\n",
       "        text-align: right;\n",
       "    }\n",
       "</style>\n",
       "<table border=\"1\" class=\"dataframe\">\n",
       "  <thead>\n",
       "    <tr style=\"text-align: right;\">\n",
       "      <th></th>\n",
       "      <th>country</th>\n",
       "      <th>year</th>\n",
       "      <th>population</th>\n",
       "      <th>continent</th>\n",
       "      <th>life_exp</th>\n",
       "      <th>gdp_cap</th>\n",
       "    </tr>\n",
       "  </thead>\n",
       "  <tbody>\n",
       "    <tr>\n",
       "      <th>0</th>\n",
       "      <td>Afghanistan</td>\n",
       "      <td>1952</td>\n",
       "      <td>8425333</td>\n",
       "      <td>Asia</td>\n",
       "      <td>28.801</td>\n",
       "      <td>779.445314</td>\n",
       "    </tr>\n",
       "    <tr>\n",
       "      <th>1</th>\n",
       "      <td>Afghanistan</td>\n",
       "      <td>1957</td>\n",
       "      <td>9240934</td>\n",
       "      <td>Asia</td>\n",
       "      <td>30.332</td>\n",
       "      <td>820.853030</td>\n",
       "    </tr>\n",
       "  </tbody>\n",
       "</table>\n",
       "</div>"
      ]
     },
     "execution_count": 77,
     "metadata": {},
     "output_type": "execute_result"
    }
   ],
   "execution_count": 77
  },
  {
   "cell_type": "code",
   "id": "1c3a00f3",
   "metadata": {
    "slideshow": {
     "slide_type": "-"
    },
    "ExecuteTime": {
     "end_time": "2025-05-11T18:56:36.715736Z",
     "start_time": "2025-05-11T18:56:36.712037Z"
    }
   },
   "source": [
    "df_gapminder['life_exp'].mean()"
   ],
   "outputs": [
    {
     "data": {
      "text/plain": [
       "np.float64(59.474439366197174)"
      ]
     },
     "execution_count": 78,
     "metadata": {},
     "output_type": "execute_result"
    }
   ],
   "execution_count": 78
  },
  {
   "cell_type": "markdown",
   "id": "78e65bc5",
   "metadata": {
    "slideshow": {
     "slide_type": "slide"
    }
   },
   "source": [
    "#### Your turn\n",
    "\n",
    "How to calculate the mean life expectancy for EUROPEan countries (2007)."
   ]
  },
  {
   "cell_type": "code",
   "id": "ca1f2568",
   "metadata": {
    "slideshow": {
     "slide_type": "-"
    },
    "ExecuteTime": {
     "end_time": "2025-05-11T18:56:36.773161Z",
     "start_time": "2025-05-11T18:56:36.770800Z"
    }
   },
   "source": [
    "### Your code here"
   ],
   "outputs": [],
   "execution_count": 79
  },
  {
   "cell_type": "markdown",
   "id": "d81618ca",
   "metadata": {
    "slideshow": {
     "slide_type": "slide"
    }
   },
   "source": [
    "#### *Average* and skewness\n",
    "\n",
    "> **Skewness** means that there are values *extending* one of the “tails” of the distribution.\n",
    "\n",
    "Of the measures of **central tendency**, “average” is the most dependent on the direction of skewness.\n",
    "\n",
    "- How would you describe the following **skewness**?  \n",
    "- Do you think the “mean” would be higher or lower than the “median”?"
   ]
  },
  {
   "cell_type": "code",
   "id": "daceceaa",
   "metadata": {
    "slideshow": {
     "slide_type": "-"
    },
    "ExecuteTime": {
     "end_time": "2025-05-11T18:56:37.091509Z",
     "start_time": "2025-05-11T18:56:36.837680Z"
    }
   },
   "source": [
    "sns.histplot(data = df_gapminder, x = \"gdp_cap\")\n",
    "plt.axvline(df_gapminder['gdp_cap'].mean(), linestyle = \"dotted\");"
   ],
   "outputs": [
    {
     "data": {
      "text/plain": [
       "<Figure size 640x480 with 1 Axes>"
      ],
      "image/png": "[encoded data removed]"
     },
     "metadata": {
      "image/png": {
       "width": 567,
       "height": 430
      }
     },
     "output_type": "display_data"
    }
   ],
   "execution_count": 80
  },
  {
   "cell_type": "markdown",
   "id": "08689326",
   "metadata": {
    "slideshow": {
     "slide_type": "slide"
    }
   },
   "source": [
    "#### Your turn\n",
    "\n",
    "Is it possible to calculate the average of the column “continent”? Why or why not?"
   ]
  },
  {
   "cell_type": "code",
   "id": "2a93284e",
   "metadata": {
    "slideshow": {
     "slide_type": "-"
    },
    "ExecuteTime": {
     "end_time": "2025-05-11T18:56:37.169413Z",
     "start_time": "2025-05-11T18:56:37.167152Z"
    }
   },
   "source": [
    "### Your comment here"
   ],
   "outputs": [],
   "execution_count": 81
  },
  {
   "cell_type": "markdown",
   "id": "51deaf6b",
   "metadata": {
    "slideshow": {
     "slide_type": "slide"
    }
   },
   "source": [
    "#### Your turn\n",
    "\n",
    "- Subtract each observation in `numbers` from the `average` of this `list`.  \n",
    "- Then calculate the **sum** of these deviations from the `average`.\n",
    "\n",
    "What is their sum?"
   ]
  },
  {
   "cell_type": "code",
   "id": "c64c81c8",
   "metadata": {
    "slideshow": {
     "slide_type": "-"
    },
    "ExecuteTime": {
     "end_time": "2025-05-11T18:56:37.199685Z",
     "start_time": "2025-05-11T18:56:37.196815Z"
    }
   },
   "source": [
    "numbers = np.array([1, 2, 3, 4])\n",
    "### Your code here"
   ],
   "outputs": [],
   "execution_count": 82
  },
  {
   "cell_type": "markdown",
   "id": "542bd4de",
   "metadata": {
    "slideshow": {
     "slide_type": "slide"
    }
   },
   "source": [
    "#### Summary of the first part\n",
    "\n",
    "- The mean is one of the most common measures of central tendency.  \n",
    "- It can only be used for **continuous** interval/ratio data.  \n",
    "- The **sum of deviations** from the mean is equal to `0`. \n",
    "- The “mean” is most affected by **skewness** and **outliers**."
   ]
  },
  {
   "cell_type": "markdown",
   "id": "a4edf9e5",
   "metadata": {
    "slideshow": {
     "slide_type": "slide"
    }
   },
   "source": [
    "### *Median*\n",
    "\n",
    "> *Median* is calculated by sorting all values from smallest to largest and then finding the value in the middle.\n",
    "\n",
    "- The median is the number that divides a data set into two equal halves.\n",
    "- To calculate the median, we need to sort our data set of n numbers in ascending order.\n",
    "- The median of this data set is the number in the position $(n+1)/2$ if $n$ is odd.\n",
    "- If n is even, the median is the average of the $(n/2)$ third number and the $(n+2)/2$ third number.\n",
    "- The median is robust to outliers.\n",
    "- Thus, in the case of skewed distributions or when there is concern about outliers, the median may be preferred."
   ]
  },
  {
   "cell_type": "code",
   "id": "6f5ec350",
   "metadata": {
    "slideshow": {
     "slide_type": "-"
    },
    "ExecuteTime": {
     "end_time": "2025-05-11T18:56:37.237077Z",
     "start_time": "2025-05-11T18:56:37.232875Z"
    }
   },
   "source": [
    "df_gapminder['gdp_cap'].median()"
   ],
   "outputs": [
    {
     "data": {
      "text/plain": [
       "np.float64(3531.8469885)"
      ]
     },
     "execution_count": 83,
     "metadata": {},
     "output_type": "execute_result"
    }
   ],
   "execution_count": 83
  },
  {
   "cell_type": "markdown",
   "id": "afe09cec",
   "metadata": {
    "slideshow": {
     "slide_type": "slide"
    }
   },
   "source": [
    "#### Comparison of `median` and `average`.\n",
    "\n",
    "The direction of inclination has less effect on the `median`."
   ]
  },
  {
   "cell_type": "code",
   "id": "dd75b183",
   "metadata": {
    "slideshow": {
     "slide_type": "-"
    },
    "ExecuteTime": {
     "end_time": "2025-05-11T18:56:37.414301Z",
     "start_time": "2025-05-11T18:56:37.252014Z"
    }
   },
   "source": [
    "sns.histplot(data = df_gapminder, x = \"gdp_cap\")\n",
    "plt.axvline(df_gapminder['gdp_cap'].mean(), linestyle = \"dotted\", color = \"blue\")\n",
    "plt.axvline(df_gapminder['gdp_cap'].median(), linestyle = \"dashed\", color = \"red\");"
   ],
   "outputs": [
    {
     "data": {
      "text/plain": [
       "<Figure size 640x480 with 1 Axes>"
      ],
      "image/png": "[encoded data removed]"
     },
     "metadata": {
      "image/png": {
       "width": 567,
       "height": 430
      }
     },
     "output_type": "display_data"
    }
   ],
   "execution_count": 84
  },
  {
   "cell_type": "markdown",
   "id": "db7d9def",
   "metadata": {
    "slideshow": {
     "slide_type": "slide"
    }
   },
   "source": [
    "#### Your turn\n",
    "\n",
    "Is it possible to calculate the median of the column “continent”? Why or why not?"
   ]
  },
  {
   "cell_type": "code",
   "id": "189724a5",
   "metadata": {
    "slideshow": {
     "slide_type": "-"
    },
    "ExecuteTime": {
     "end_time": "2025-05-11T18:56:37.439420Z",
     "start_time": "2025-05-11T18:56:37.437132Z"
    }
   },
   "source": [
    "### Your comment here"
   ],
   "outputs": [],
   "execution_count": 85
  },
  {
   "cell_type": "markdown",
   "id": "d7c5e7ca",
   "metadata": {
    "slideshow": {
     "slide_type": "slide"
    }
   },
   "source": [
    "### *Mode*\n",
    "\n",
    "> **Mode** is the most common value in a data set. \n",
    "\n",
    "Unlike `median` or `average`, `mode` can be used with **categorical** data."
   ]
  },
  {
   "cell_type": "code",
   "id": "e139d23f",
   "metadata": {
    "slideshow": {
     "slide_type": "-"
    },
    "ExecuteTime": {
     "end_time": "2025-05-11T18:56:37.462314Z",
     "start_time": "2025-05-11T18:56:37.454392Z"
    }
   },
   "source": [
    "df_pokemon = pd.read_csv(\"data/pokemon.csv\")\n",
    "df_pokemon['Type 1'].mode()"
   ],
   "outputs": [
    {
     "data": {
      "text/plain": [
       "0    Water\n",
       "Name: Type 1, dtype: object"
      ]
     },
     "execution_count": 86,
     "metadata": {},
     "output_type": "execute_result"
    }
   ],
   "execution_count": 86
  },
  {
   "cell_type": "markdown",
   "id": "862b4479",
   "metadata": {
    "slideshow": {
     "slide_type": "slide"
    }
   },
   "source": [
    "#### `mode()` returns multiple values?\n",
    "\n",
    "- If multiple values *bind* for the most frequent one, `mode()` will return them all.\n",
    "- This is because technically, a distribution can have multiple values for the most frequent - modal!"
   ]
  },
  {
   "cell_type": "code",
   "id": "b422f679",
   "metadata": {
    "ExecuteTime": {
     "end_time": "2025-05-11T18:56:37.509671Z",
     "start_time": "2025-05-11T18:56:37.504482Z"
    }
   },
   "source": [
    "df_gapminder['gdp_cap'].mode()"
   ],
   "outputs": [
    {
     "data": {
      "text/plain": [
       "0          241.165876\n",
       "1          277.551859\n",
       "2          298.846212\n",
       "3          299.850319\n",
       "4          312.188423\n",
       "            ...      \n",
       "1699     80894.883260\n",
       "1700     95458.111760\n",
       "1701    108382.352900\n",
       "1702    109347.867000\n",
       "1703    113523.132900\n",
       "Name: gdp_cap, Length: 1704, dtype: float64"
      ]
     },
     "execution_count": 87,
     "metadata": {},
     "output_type": "execute_result"
    }
   ],
   "execution_count": 87
  },
  {
   "cell_type": "markdown",
   "id": "1d406ca3",
   "metadata": {
    "slideshow": {
     "slide_type": "slide"
    }
   },
   "source": [
    "### Measures of central tendency - summary\n",
    "\n",
    "|Measure|Can be used for:|Limitations|\n",
    "|-------|----------------|-----------|\n",
    "|Mean|Continuous data|Influence on skewness and outliers|\n",
    "|Median|Continuous data|Does not include the *value* of all data points in the calculation (ranks only)|\n",
    "|Mode|Continuous and categorical data|Considers only *frequent*; ignores other values|"
   ]
  },
  {
   "cell_type": "markdown",
   "id": "d480b682",
   "metadata": {},
   "source": [
    "## Quantiles\n",
    "\n",
    "**Quantiles** are descriptive - positional statistics that divide an ordered data set into equal parts. The most common quantiles are:\n",
    "\n",
    "- **Median** (quantile of order 0.5),\n",
    "- **Quartiles** (divide the data into 4 parts),\n",
    "- **Deciles** (into 10 parts),\n",
    "- **Percentiles** (into 100 parts).\n",
    "\n",
    "### Definition\n",
    "\n",
    "A quantile of order $q \\in (0,1)$ is a value of $x_q$ such that:\n",
    "\n",
    "$$\n",
    "P(X \\leq x_q) = q\n",
    "$$\n",
    "\n",
    "In other words: $q \\cdot 100\\%$ of the values in the data set are less than or equal to $x_q$.\n",
    "\n",
    "### Formula (for an ordered data set)\n",
    "\n",
    "For a data sample $x_1, x_2, \\ldots, x_n$ ordered in ascending order, the quantile of order $q$ is determined as:\n",
    "\n",
    "1. Calculate the positional index:\n",
    "\n",
    "$$\n",
    "i = q \\cdot (n + 1)\n",
    "$$\n",
    "\n",
    "2. If $i$ is an integer, then the quantile is $x_i$.\n",
    "\n",
    "3. If $i$ is not integer, we interpolate linearly between adjacent values:\n",
    "\n",
    "$$\n",
    "x_q = x_{\\lfloor i \\rfloor} + (i - \\lfloor i \\rfloor) \\cdot (x_{\\lceil i \\rceil} - x_{\\lfloor i \\rfloor})\n",
    "$$\n",
    "\n",
    "**Note:** In practice, different methods are used to determine quantiles - libraries such as NumPy or Pandas have different modes (e.g. `method='linear'`, `method='midpoint'`).\n",
    "\n",
    "### Example - we calculate step by step:\n",
    "\n",
    "For data:\n",
    "$\n",
    "[3, 7, 8, 5, 12, 14, 21, 13, 18]\n",
    "$\n",
    "\n",
    "1. We arrange the data in ascending order:\n",
    "\n",
    "$\n",
    "[3, 5, 7, 8, 12, 13, 14, 18, 21]\n",
    "$\n",
    "\n",
    "2. Median (quantile of order 0.5):\n",
    "\n",
    "The number of elements $n = 9$, the middle element is the 5th value:\n",
    "\n",
    "$\n",
    "\\text{Median} = x_5 = 12\n",
    "$\n",
    "\n",
    "3. First quartile (Q1, quantile of order 0.25):\n",
    "\n",
    "$\n",
    "i = 0.25 \\cdot (9 + 1) = 2.5\n",
    "$\n",
    "\n",
    "Interpolation between $x_2 = 5$ and $x_3 = 7$:\n",
    "\n",
    "$\n",
    "Q_1 = 5 + 0.5 \\cdot (7 - 5) = 6\n",
    "$\n",
    "\n",
    "4. Third quartile (Q3, quantile of 0.75):\n",
    "\n",
    "$\n",
    "i = 0.75 \\cdot 10 = 7.5\n",
    "$\n",
    "\n",
    "Interpolation between $x_7 = 14$ and $x_8 = 18$:\n",
    "\n",
    "$\n",
    "Q_3 = 14 + 0.5 \\cdot (18 - 14) = 16\n",
    "$\n",
    "\n",
    "### Deciles\n",
    "\n",
    "**Deciles** divide data into 10 equal parts. For example:\n",
    "\n",
    "- **D1** is the 10th percentile (quantile of 0.1),\n",
    "- **D5** is the median (0.5),\n",
    "- **D9** is the 90th percentile (0.9).\n",
    "\n",
    "The formula is the same as for overall quantiles, just use the corresponding $q$. E.g. for D3:\n",
    "\n",
    "$\n",
    "q = \\frac{3}{10} = 0.3\n",
    "$\n",
    "\n",
    "### Percentiles\n",
    "\n",
    "**Percentiles** divide data into 100 equal parts. E.g.:\n",
    "\n",
    "- **P25** = Q1,\n",
    "- **P50** = median,\n",
    "- **P75** = Q3,\n",
    "- **P90** is the value below which 90% of the data is.\n",
    "\n",
    "With percentiles, we can better understand the distribution of data - for example, in standardized tests, a score is often given as a percentile (e.g., “85th percentile” means that someone scored better than 85% of the population).\n",
    "\n",
    "---\n",
    "\n",
    "### Quantiles - summary\n",
    "\n",
    "| Name     | Symbol | Quantile \\( q \\) | Meaning                          |\n",
    "|-----------|--------|------------------|-------------------------------------|\n",
    "| Q1        | Q1     | 0.25             | 25% of data ≤ Q1                     |\n",
    "| Median   | Q2     | 0.5              | 50% of data ≤ Median                |\n",
    "| Q3        | Q3     | 0.75             | 75% of data ≤ Q3                     |\n",
    "| Decile 1   | D1     | 0.1              | 10% of data ≤ D1                     |\n",
    "| Decile 9   | D9     | 0.9              | 90% of data ≤ D9                     |\n",
    "| Percentile 95 | P95 | 0.95             | 95% of data ≤ P95                    |\n",
    "\n",
    "---"
   ]
  },
  {
   "cell_type": "markdown",
   "id": "629fc6ad",
   "metadata": {},
   "source": [
    "### Example - calculations of quantiles"
   ]
  },
  {
   "cell_type": "code",
   "id": "8b8a9b32",
   "metadata": {
    "ExecuteTime": {
     "end_time": "2025-05-11T18:56:37.584986Z",
     "start_time": "2025-05-11T18:56:37.581153Z"
    }
   },
   "source": [
    "# Sample data\n",
    "mydata = [3, 7, 8, 5, 12, 14, 21, 13, 18]\n",
    "mydata_sorted = sorted(mydata)\n",
    "print(\"Sorted data:\", mydata_sorted)"
   ],
   "outputs": [
    {
     "name": "stdout",
     "output_type": "stream",
     "text": [
      "Sorted data: [3, 5, 7, 8, 12, 13, 14, 18, 21]\n"
     ]
    }
   ],
   "execution_count": 88
  },
  {
   "cell_type": "code",
   "id": "6521efdd",
   "metadata": {
    "ExecuteTime": {
     "end_time": "2025-05-11T18:56:37.666827Z",
     "start_time": "2025-05-11T18:56:37.659154Z"
    }
   },
   "source": [
    "# Conversion to Pandas Series\n",
    "s = pd.Series(mydata)\n",
    "\n",
    "# Quantiles\n",
    "q1 = s.quantile(0.25) # lower quartile Q1\n",
    "median = s.quantile(0.5) # median or middle quartile Q2 = Me\n",
    "q3 = s.quantile(0.75) # upper quartile Q3\n",
    "\n",
    "# Deciles\n",
    "d1 = s.quantile(0.1) # bottom 10% of data...\n",
    "d9 = s.quantile(0.9) # top 10% of data...\n",
    "\n",
    "# Percentiles\n",
    "p95 = s.quantile(0.95)  # top 5% of data...\n",
    "\n",
    "print(\"Quantiles:\")\n",
    "print(f\"Q1 (25%): {q1}\")\n",
    "print(f\"Median (50%): {median}\")\n",
    "print(f\"Q3 (75%): {q3}\")\n",
    "print(\"\\nDeciles:\")\n",
    "print(f\"D1 (10%): {d1}\")\n",
    "print(f\"D9 (90%): {d9}\")\n",
    "print(\"\\nPercentiles:\")\n",
    "print(f\"P95 (95%): {p95}\")"
   ],
   "outputs": [
    {
     "name": "stdout",
     "output_type": "stream",
     "text": [
      "Quantiles:\n",
      "Q1 (25%): 7.0\n",
      "Median (50%): 12.0\n",
      "Q3 (75%): 14.0\n",
      "\n",
      "Deciles:\n",
      "D1 (10%): 4.6\n",
      "D9 (90%): 18.6\n",
      "\n",
      "Percentiles:\n",
      "P95 (95%): 19.799999999999997\n"
     ]
    }
   ],
   "execution_count": 89
  },
  {
   "cell_type": "code",
   "id": "9884aaf4",
   "metadata": {
    "ExecuteTime": {
     "end_time": "2025-05-11T18:56:37.994979Z",
     "start_time": "2025-05-11T18:56:37.791792Z"
    }
   },
   "source": [
    "# Create boxplot\n",
    "fig, ax = plt.subplots(figsize=(8, 6))\n",
    "sns.boxplot(data=mydata, ax=ax, color='lightblue', width=0.3)\n",
    "\n",
    "# Calculate statistics\n",
    "minimum = np.min(mydata)\n",
    "q1 = np.percentile(mydata, 25)\n",
    "median = np.median(mydata)\n",
    "q3 = np.percentile(mydata, 75)\n",
    "maximum = np.max(mydata)\n",
    "mean = np.mean(mydata)\n",
    "\n",
    "ax.scatter(0, minimum, color='red', label='Min', zorder=5)\n",
    "ax.scatter(0, q1, color='orange', label='Q1 (25th percentile)', zorder=5)\n",
    "ax.scatter(0, median, color='green', label='Median (50th percentile)', zorder=5)\n",
    "ax.scatter(0, q3, color='purple', label='Q3 (75th percentile)', zorder=5)\n",
    "ax.scatter(0, maximum, color='brown', label='Max', zorder=5)\n",
    "ax.scatter(0, mean, color='black', marker='D', s=60, label='Mean', zorder=5)\n",
    "\n",
    "for value, name, color in zip(\n",
    "    [minimum, q1, median, mean, q3, maximum],\n",
    "    ['Min', 'Q1', 'Median', 'Mean', 'Q3', 'Max'],\n",
    "    ['red', 'orange', 'green', 'black', 'purple', 'brown']\n",
    "):\n",
    "    ax.text(0.1, value, f'{name}: {value:.2f}', verticalalignment='center', color=color)\n",
    "\n",
    "\n",
    "ax.set_title('Boxplot of mydata with All Measures Marked')\n",
    "ax.legend(bbox_to_anchor=(1.05, 1), loc='upper left')\n",
    "plt.show()"
   ],
   "outputs": [
    {
     "data": {
      "text/plain": [
       "<Figure size 800x600 with 1 Axes>"
      ],
      "image/png": "[encoded data removed]"
     },
     "metadata": {
      "image/png": {
       "width": 914,
       "height": 502
      }
     },
     "output_type": "display_data"
    }
   ],
   "execution_count": 90
  },
  {
   "cell_type": "markdown",
   "id": "a790f5b1",
   "metadata": {},
   "source": [
    "### Your turn!\n",
    "\n",
    "Try to change the boxplot into the violin plot (or add it). \n",
    "\n",
    "Looking at the aforementioned quantile results and the box plot, try to interpret these measures. "
   ]
  },
  {
   "cell_type": "markdown",
   "id": "1b6d711b",
   "metadata": {
    "slideshow": {
     "slide_type": "slide"
    }
   },
   "source": [
    "## Variability\n",
    "\n",
    "> **Variability** (or **dispersion**) refers to the degree to which values in a distribution are *dispersed*, i.e., differ from each other.\n",
    "\n",
    "The **dispersion** is an indicator of how far from the center we can find data values. The most common measures of dispersion are **variance**, **standard deviation** and **interquartile range (IQR)**. The **variance** is a standard measure of dispersion. The **standard deviation** is the square root of the variance. The **variance** and **standard deviation** are two useful measures of scatter."
   ]
  },
  {
   "cell_type": "markdown",
   "id": "65ccf2d9",
   "metadata": {
    "slideshow": {
     "slide_type": "slide"
    }
   },
   "source": [
    "### The `mean` hides the variance!\n",
    "\n",
    "Both distributions have *the same* mean, but *different* **standard deviations**."
   ]
  },
  {
   "cell_type": "code",
   "id": "aa87cf4d",
   "metadata": {
    "slideshow": {
     "slide_type": "-"
    },
    "ExecuteTime": {
     "end_time": "2025-05-11T18:56:38.168354Z",
     "start_time": "2025-05-11T18:56:38.006909Z"
    }
   },
   "source": [
    "### Let's create some distributions\n",
    "d1 = np.random.normal(loc = 0, scale = 1, size = 1000)\n",
    "d2 = np.random.normal(loc = 0, scale = 5, size = 1000)\n",
    "### Plots\n",
    "fig, axes = plt.subplots(1, 2, sharex=True, sharey=True);\n",
    "p1 = axes[0].hist(d1, alpha = .5)\n",
    "p2 = axes[1].hist(d2, alpha = .5)\n",
    "axes[0].set_title(\"Lower variance\");\n",
    "axes[1].set_title(\"Higher variance\");"
   ],
   "outputs": [
    {
     "data": {
      "text/plain": [
       "<Figure size 640x480 with 2 Axes>"
      ],
      "image/png": "[encoded data removed]"
     },
     "metadata": {
      "image/png": {
       "width": 548,
       "height": 432
      }
     },
     "output_type": "display_data"
    }
   ],
   "execution_count": 91
  },
  {
   "cell_type": "markdown",
   "id": "0d3a1076",
   "metadata": {
    "slideshow": {
     "slide_type": "slide"
    }
   },
   "source": [
    "### Volatility detection\n",
    "\n",
    "There are at least *three* main approaches to quantifying variability:\n",
    "\n",
    "- **Range**: the difference between the “maximum” and “minimum” value. \n",
    "- **Interquartile range (IQR)**: The range of the middle 50% of the data.  \n",
    "- **Variance** and **Standard Deviation**: the typical value by which results deviate from the mean."
   ]
  },
  {
   "cell_type": "markdown",
   "id": "079082a0",
   "metadata": {
    "slideshow": {
     "slide_type": "slide"
    }
   },
   "source": [
    "### Range\n",
    "\n",
    "> **Range** Is the difference between the `maximum` and `minimum` values.\n",
    "\n",
    "Intuitive, but only considers two values in the entire distribution."
   ]
  },
  {
   "cell_type": "code",
   "id": "d3501a1d",
   "metadata": {
    "ExecuteTime": {
     "end_time": "2025-05-11T18:56:38.187091Z",
     "start_time": "2025-05-11T18:56:38.184003Z"
    }
   },
   "source": [
    "d1.max() - d1.min()"
   ],
   "outputs": [
    {
     "data": {
      "text/plain": [
       "np.float64(6.079780435921255)"
      ]
     },
     "execution_count": 92,
     "metadata": {},
     "output_type": "execute_result"
    }
   ],
   "execution_count": 92
  },
  {
   "cell_type": "code",
   "id": "ceeaba65",
   "metadata": {
    "ExecuteTime": {
     "end_time": "2025-05-11T18:56:38.212060Z",
     "start_time": "2025-05-11T18:56:38.208302Z"
    }
   },
   "source": [
    "d2.max() - d2.min()"
   ],
   "outputs": [
    {
     "data": {
      "text/plain": [
       "np.float64(36.667970389001795)"
      ]
     },
     "execution_count": 93,
     "metadata": {},
     "output_type": "execute_result"
    }
   ],
   "execution_count": 93
  },
  {
   "cell_type": "markdown",
   "id": "293cfcb7",
   "metadata": {
    "slideshow": {
     "slide_type": "slide"
    }
   },
   "source": [
    "### IQR\n",
    "\n",
    "> The **interquartile range (IQR)** is the difference between a value in the 75% percentile and a value in the 25% percentile.\n",
    "\n",
    "It focuses on the **center 50%**, but still only considers two values.\n",
    "\n",
    "- IQR is calculated using the limits of the data between the 1st and 3rd quartiles. \n",
    "- The interquartile range (IQR) can be calculated as follows: $IQR = Q3 - Q1$\n",
    "- In the same way that the median is more robust than the mean, the IQR is a more robust measure of scatter than the variance and standard deviation and should therefore be preferred for small or asymmetric distributions. \n",
    "- It is a robust measure of scatter."
   ]
  },
  {
   "cell_type": "code",
   "id": "84f6740f",
   "metadata": {
    "ExecuteTime": {
     "end_time": "2025-05-11T18:56:38.248304Z",
     "start_time": "2025-05-11T18:56:38.244136Z"
    }
   },
   "source": [
    "## Let's calculate quantiles - quartiles Q1 and Q3\n",
    "q3, q1 = np.percentile(d1, [75 ,25])\n",
    "q3 - q1"
   ],
   "outputs": [
    {
     "data": {
      "text/plain": [
       "np.float64(1.3435224194780124)"
      ]
     },
     "execution_count": 94,
     "metadata": {},
     "output_type": "execute_result"
    }
   ],
   "execution_count": 94
  },
  {
   "cell_type": "code",
   "id": "395472da",
   "metadata": {
    "ExecuteTime": {
     "end_time": "2025-05-11T18:56:38.286247Z",
     "start_time": "2025-05-11T18:56:38.282472Z"
    }
   },
   "source": [
    "## Let's calculate quantiles - quartiles Q1 and Q3\n",
    "q3, q1 = np.percentile(d2, [75 ,25])\n",
    "q3 - q1"
   ],
   "outputs": [
    {
     "data": {
      "text/plain": [
       "np.float64(7.370569016402993)"
      ]
     },
     "execution_count": 95,
     "metadata": {},
     "output_type": "execute_result"
    }
   ],
   "execution_count": 95
  },
  {
   "cell_type": "markdown",
   "id": "0eca5265",
   "metadata": {
    "slideshow": {
     "slide_type": "slide"
    }
   },
   "source": [
    "### Variance and standard deviation.\n",
    "\n",
    "The **Variance** measures the dispersion of a set of data points around their mean value. It is the average of the squares of the individual deviations. The variance gives the results in original units squared.\n",
    "\n",
    "$$\n",
    "s^2 = \\frac{1}{n - 1} \\sum_{i=1}^{n} (x_i - \\bar{x})^2\n",
    "$$\n",
    "\n",
    "**Standard deviation (SD)** measures the *typical value* by which the results in the distribution deviate from the mean.\n",
    "\n",
    "$$\n",
    "s = \\sqrt{s^2} = \\sqrt{\\frac{1}{n - 1} \\sum_{i=1}^{n} (x_i - \\bar{x})^2}\n",
    "$$\n",
    "\n",
    "where:\n",
    "\t- $n$ - the number of elements in the sample\n",
    "\t- $bar{x}$ - the arithmetic mean of the sample\n",
    "\n",
    "What to keep in mind:\n",
    "\n",
    "- SD is the *square root* of [variance](https://en.wikipedia.org/wiki/Variance).  \n",
    "- There are actually *two* measures of SD:\n",
    " - SD of a population: when you measure the entire population of interest (very rare).  \n",
    "   - SD of a sample: when you measure a *sample* (typical case); we'll focus on that."
   ]
  },
  {
   "cell_type": "markdown",
   "id": "629f4e6f",
   "metadata": {
    "slideshow": {
     "slide_type": "slide"
    }
   },
   "source": [
    "#### SD, explained\n",
    "\n",
    "- First, calculate the total *square deviation*.\n",
    "   - What is the total square deviation from the “mean”? \n",
    "- Then divide by `n - 1`: normalize to the number of observations.\n",
    "   - What is the *average* squared deviation from the `average'?\n",
    "- Finally, take the *square root*:\n",
    "   - What is the *average* deviation from the “mean”?\n",
    "\n",
    "The **standard deviation** represents the *typical* or “average” deviation from the “mean”."
   ]
  },
  {
   "cell_type": "markdown",
   "id": "56890445",
   "metadata": {
    "slideshow": {
     "slide_type": "slide"
    }
   },
   "source": [
    "#### SD calculation in `pandas`"
   ]
  },
  {
   "cell_type": "code",
   "id": "5cfdc0c2",
   "metadata": {
    "ExecuteTime": {
     "end_time": "2025-05-11T18:56:38.325103Z",
     "start_time": "2025-05-11T18:56:38.320536Z"
    }
   },
   "source": [
    "df_pokemon['Attack'].std()"
   ],
   "outputs": [
    {
     "data": {
      "text/plain": [
       "np.float64(32.45736586949845)"
      ]
     },
     "execution_count": 96,
     "metadata": {},
     "output_type": "execute_result"
    }
   ],
   "execution_count": 96
  },
  {
   "cell_type": "code",
   "id": "29cb4502",
   "metadata": {
    "ExecuteTime": {
     "end_time": "2025-05-11T18:56:38.367087Z",
     "start_time": "2025-05-11T18:56:38.362384Z"
    }
   },
   "source": [
    "df_pokemon['HP'].std()"
   ],
   "outputs": [
    {
     "data": {
      "text/plain": [
       "np.float64(25.53466903233207)"
      ]
     },
     "execution_count": 97,
     "metadata": {},
     "output_type": "execute_result"
    }
   ],
   "execution_count": 97
  },
  {
   "cell_type": "markdown",
   "id": "0e8a5d22",
   "metadata": {
    "slideshow": {
     "slide_type": "slide"
    }
   },
   "source": [
    "#### Note on `numpy.std`!!!\n",
    "\n",
    "- By default, `numpy.std` calculates the **population standard deviation**!  \n",
    "- You need to modify the `ddof` parameter to calculate the **sample standard deviation**.\n",
    "\n",
    "This is a very common error."
   ]
  },
  {
   "cell_type": "code",
   "id": "b7380458",
   "metadata": {
    "ExecuteTime": {
     "end_time": "2025-05-11T18:56:38.397061Z",
     "start_time": "2025-05-11T18:56:38.392784Z"
    }
   },
   "source": [
    "### SD in population\n",
    "d1.std()"
   ],
   "outputs": [
    {
     "data": {
      "text/plain": [
       "np.float64(1.0308316664437995)"
      ]
     },
     "execution_count": 98,
     "metadata": {},
     "output_type": "execute_result"
    }
   ],
   "execution_count": 98
  },
  {
   "cell_type": "code",
   "id": "a55e6978",
   "metadata": {
    "ExecuteTime": {
     "end_time": "2025-05-11T18:56:38.424689Z",
     "start_time": "2025-05-11T18:56:38.421379Z"
    }
   },
   "source": [
    "### SD for sample\n",
    "d1.std(ddof = 1)"
   ],
   "outputs": [
    {
     "data": {
      "text/plain": [
       "np.float64(1.0313474691613134)"
      ]
     },
     "execution_count": 99,
     "metadata": {},
     "output_type": "execute_result"
    }
   ],
   "execution_count": 99
  },
  {
   "cell_type": "markdown",
   "id": "4be27c0b",
   "metadata": {},
   "source": [
    "### Coefficient of variation (CV).\n",
    "\n",
    "- The coefficient of variation (CV) is equal to the standard deviation divided by the mean.\n",
    "- It is also known as “relative standard deviation.”\n",
    "\n",
    "$$\n",
    "CV = \\frac{s}{\\bar{x}} \\cdot 100%\n",
    "$$"
   ]
  },
  {
   "cell_type": "code",
   "id": "a80cd586",
   "metadata": {
    "ExecuteTime": {
     "end_time": "2025-05-11T18:56:38.455226Z",
     "start_time": "2025-05-11T18:56:38.450430Z"
    }
   },
   "source": [
    "X = [2, 4, 4, 4, 5, 5, 7, 9]\n",
    "mean = np.mean(X)\n",
    "\n",
    "# Variance and standard deviation from scipy (for the sample!):\n",
    "var_sample = stats.tvar(X)      # sample variance\n",
    "std_sample = stats.tstd(X)      # sample sd\n",
    "\n",
    "# CV (for sample):\n",
    "cv_sample = (std_sample / mean) * 100\n",
    "\n",
    "print(f\"Mean: {mean}\")\n",
    "print(f\"Sample variance (scipy): {var_sample}\")\n",
    "print(f\"Sample sd (scipy): {std_sample}\")\n",
    "print(f\"CV (scipy): {cv_sample:.2f}%\")"
   ],
   "outputs": [
    {
     "name": "stdout",
     "output_type": "stream",
     "text": [
      "Mean: 5.0\n",
      "Sample variance (scipy): 4.571428571428571\n",
      "Sample sd (scipy): 2.138089935299395\n",
      "CV (scipy): 42.76%\n"
     ]
    }
   ],
   "execution_count": 100
  },
  {
   "cell_type": "markdown",
   "id": "77f4ccf5",
   "metadata": {},
   "source": [
    "## Measures of the shape of the distribution\n",
    "\n",
    "Now we will look at measures of the shape of the distribution. There are two statistical measures that can tell us about the shape of a distribution. These are **skewness** and **curvature**. These measures can be used to tell us about the shape of the distribution of a data set."
   ]
  },
  {
   "cell_type": "markdown",
   "id": "36254c61",
   "metadata": {},
   "source": [
    "## Skewness\n",
    "- **Skewness** is a measure of the symmetry of a distribution, or more precisely, the lack of symmetry. \n",
    "- It is used to determine the lack of symmetry with respect to the mean of a data set. \n",
    "- It is a characteristic of deviation from the mean. \n",
    "- It is used to indicate the shape of a data distribution."
   ]
  },
  {
   "cell_type": "markdown",
   "id": "45cef464",
   "metadata": {},
   "source": [
    "Skewness is a measure of the asymmetry of the distribution of data relative to the mean. It tells us whether the data are more ‘stretched’ to one side.\n",
    "\n",
    "Interpretation:\n",
    "\n",
    "- Skewness > 0 - right-tailed (positive): long tail on the right (larger values are more dispersed)\n",
    "- Skewness < 0 - left (negative): long tail on the left (smaller values are more dispersed)\n",
    "- Skewness ≈ 0 - symmetric distribution (e.g. normal distribution)\n",
    "\n",
    "Formula (for the sample):\n",
    "\n",
    "$$\n",
    "A = \\frac{n}{(n-1)(n-2)} \\sum_{i=1}^{n} \\left( \\frac{x_i - \\bar{x}}{s} \\right)^3\n",
    "$$\n",
    "\n",
    "where:\n",
    "- $n$ - number of observations\n",
    "- $\\bar{x}$ - sample mean\n",
    "- $s$ - standard deviation of the sample"
   ]
  },
  {
   "cell_type": "markdown",
   "id": "88cae2b7",
   "metadata": {},
   "source": [
    "![title](img/skew.png)"
   ]
  },
  {
   "cell_type": "markdown",
   "id": "0d2806da",
   "metadata": {},
   "source": [
    "\n",
    "#### Negative skewness\n",
    "\n",
    "- In this case, the data are skewed or shifted to the left. \n",
    "- By skewed to the left, we mean that the left tail is long relative to the right tail. \n",
    "- The data values may extend further to the left, but are concentrated on the right. \n",
    "- So we are dealing with a long tail, and the distortion is caused by very small values that pull the mean down and it is smaller than the median. \n",
    "- In this case we have **Mean < Median < Mode**.\n",
    "      \n",
    "\n",
    "#### Zero skewness\n",
    "\n",
    "- This means that the dataset is symmetric. \n",
    "- A dataset is symmetric if it looks the same to the left and right of the midpoint. \n",
    "- A dataset is bell-shaped or symmetric. \n",
    "- A perfectly symmetrical dataset will have a skewness of zero. \n",
    "- So a normal distribution that is perfectly symmetric has a skewness of 0. \n",
    "- In this case we have **Mean = Median = Mode**.\n",
    "      \n",
    "\n",
    "#### Positive skewness\n",
    "\n",
    "- The dataset is skewed or shifted to the right. \n",
    "- By skewed to the right we mean that the right tail is long relative to the left tail. \n",
    "- The data values are concentrated on the right side. \n",
    "- There is a long tail on the right side, which is caused by very large values that pull the mean upwards and it is larger than the median. \n",
    "- So we have **Mean > Median > Mode**."
   ]
  },
  {
   "cell_type": "code",
   "id": "7576e53c",
   "metadata": {
    "ExecuteTime": {
     "end_time": "2025-05-11T18:56:38.487189Z",
     "start_time": "2025-05-11T18:56:38.483592Z"
    }
   },
   "source": [
    "from scipy.stats import skew\n",
    "X = [2, 4, 4, 4, 5, 5, 7, 9]\n",
    "skewness = skew(X)\n",
    "print(f\"Skewness of X: {skewness:.4f}\")"
   ],
   "outputs": [
    {
     "name": "stdout",
     "output_type": "stream",
     "text": [
      "Skewness of X: 0.6562\n"
     ]
    }
   ],
   "execution_count": 101
  },
  {
   "cell_type": "markdown",
   "id": "6ffb4526",
   "metadata": {},
   "source": [
    "### Your turn\n",
    "\n",
    "Try to interpret the above-mentioned result and calculate example slant ratios for several groups of Pokémon."
   ]
  },
  {
   "cell_type": "code",
   "id": "8604abac",
   "metadata": {
    "ExecuteTime": {
     "end_time": "2025-05-11T18:56:38.529152Z",
     "start_time": "2025-05-11T18:56:38.526080Z"
    }
   },
   "source": [
    "# Your comment here"
   ],
   "outputs": [],
   "execution_count": 102
  },
  {
   "cell_type": "markdown",
   "id": "5afca0d1",
   "metadata": {},
   "source": [
    "### Interquartile Skewness\n",
    "\n",
    "**IQR skewness** is a robust, non-parametric measure of skewness that uses the positions of the quartiles rather than the mean and standard deviation. It is particularly useful for detecting asymmetry in data distributions, especially when outliers are present.\n",
    "\n",
    "The formula for IQR Skewness is:\n",
    "\n",
    "$$\n",
    "IQR\\ Skewness = \\frac{(Q3 - Median) - (Median - Q1)}{Q3 - Q1}\n",
    "$$\n",
    "This method is **less sensitive to outliers** and more **robust** than moment-based skewness, making it ideal for exploratory data analysis."
   ]
  },
  {
   "cell_type": "markdown",
   "id": "62d0aa44",
   "metadata": {},
   "source": [
    "### Your turn\n",
    "\n",
    "Try to calculate the IQR Skewness coefficient for the sample data:"
   ]
  },
  {
   "cell_type": "code",
   "id": "23f4fdd2",
   "metadata": {
    "ExecuteTime": {
     "end_time": "2025-05-11T18:56:38.545649Z",
     "start_time": "2025-05-11T18:56:38.543194Z"
    }
   },
   "source": [
    "mydata = [3, 7, 8, 5, 12, 14, 21, 13, 18]\n",
    "# Your code here"
   ],
   "outputs": [],
   "execution_count": 103
  },
  {
   "cell_type": "markdown",
   "id": "f5dafa12",
   "metadata": {},
   "source": [
    "## Kurtosis\n",
    "\n",
    "Contrary to what some textbooks claim, kurtosis does not measure the ‘flattening’, the ‘peaking’ of a distribution.\n",
    "\n",
    "> **Kurtosis** depends on the intensity of the extremes, so it measures what happens in the ‘tails’ of the distribution, the shape of the ‘top’ is irrelevant!\n",
    "\n",
    "**Excess kurtosis** is just kurtosis minus 3. It’s used to compare a distribution to the normal distribution (which has kurtosis = 3).\n",
    "\n",
    "\n",
    "Sample kurtosis:\n",
    "\n",
    "$$\n",
    "\\text{Kurtosis} = \\frac{1}{n} \\sum_{i=1}^{n} \\left( \\frac{x_i - \\bar{x}}{s} \\right)^4\n",
    "$$\n",
    "\n",
    "$$\n",
    "\\text{Normalized kurtozis} = \\text{Kurtozis} - 3\n",
    "$$\n",
    "\n",
    "#### Reference range for kurtosis\n",
    "- The reference standard is the normal distribution, which has a kurtosis of 3. \n",
    "- Often **Excess** is presented instead of kurtosis, where **excess** is simply **Kurtosis - 3**. \n",
    "\n",
    "#### Mesocurve\n",
    "- A normal distribution has a kurtosis of exactly 3 (**Excess** exactly 0). \n",
    "- Any distribution with kurtosis $≈3$ (exces ≈ 0) is called **mezocurtic**.\n",
    "\n",
    "#### Platykurtic curve\n",
    "- A distribution with kurtosis $<3$ (**Excess** < 0) is called **platykurtic**. \n",
    "- Compared to a normal distribution, its central peak is lower and wider and its tails are shorter and thinner.\n",
    "\n",
    "#### Leptokurtic curve\n",
    "\n",
    "- A distribution with kurtosis $>3$ (**Excess** > 0) is called **leptocurtic**. \n",
    "- Compared to a normal distribution, its central peak is higher and sharper and its tails are longer and thicker."
   ]
  },
  {
   "cell_type": "markdown",
   "id": "57edd444",
   "metadata": {},
   "source": [
    "![title](img/ku.png)"
   ]
  },
  {
   "cell_type": "markdown",
   "id": "337e78fc",
   "metadata": {},
   "source": [
    "So:\n",
    "- Excess Kurtosis ≈ 0 → Normal distribution\n",
    "- Excess Kurtosis > 0 → Leptokurtic (heavy tails)\n",
    "- Excess Kurtosis < 0 → Platykurtic (light tails)"
   ]
  },
  {
   "cell_type": "code",
   "id": "0ea34ddd",
   "metadata": {
    "ExecuteTime": {
     "end_time": "2025-05-11T18:56:38.568255Z",
     "start_time": "2025-05-11T18:56:38.563764Z"
    }
   },
   "source": [
    "from scipy.stats import kurtosis\n",
    "import numpy as np\n",
    "\n",
    "data = np.array([2, 8, 0, 4, 1, 9, 9, 0])\n",
    "\n",
    "# By default, it returns excess kurtosis\n",
    "excess_kurt = kurtosis(data)\n",
    "print(\"Excess Kurtosis:\", excess_kurt)\n",
    "\n",
    "# To get regular kurtosis (not excess), set fisher=False\n",
    "regular_kurt = kurtosis(data, fisher=False)\n",
    "print(\"Regular Kurtosis:\", regular_kurt)"
   ],
   "outputs": [
    {
     "name": "stdout",
     "output_type": "stream",
     "text": [
      "Excess Kurtosis: -1.6660010752838508\n",
      "Regular Kurtosis: 1.3339989247161492\n"
     ]
    }
   ],
   "execution_count": 104
  },
  {
   "cell_type": "markdown",
   "id": "12ff171f",
   "metadata": {},
   "source": [
    "### Interquartile Kurtosis\n",
    "\n",
    "**IQR Kurtosis** is a robust, non-parametric measure of kurtosis that focuses on the tails of the distribution using interquartile ranges. It is particularly useful for detecting the intensity of extreme values in data distributions, especially when outliers are present.\n",
    "\n",
    "The formula for IQR Kurtosis is:\n",
    "\n",
    "$$\n",
    "IQR\\ Kurtosis = \\frac{(Q3 - Q2) + (Q2 - Q1)}{Q3 - Q1}\n",
    "$$\n",
    "\n",
    "Where:\n",
    "- $Q1$ is the first quartile (25th percentile),\n",
    "- $Q2$ is the median (50th percentile),\n",
    "- $Q3$ is the third quartile (75th percentile).\n",
    "\n",
    "**Interpretation**:\n",
    "\n",
    "IQR Kurtosis differs from traditional kurtosis in its interpretation. While traditional kurtosis focuses on the intensity of the tails of a distribution (e.g., heavy or light tails), IQR Kurtosis is a robust measure that emphasizes the relative spread of the interquartile range (IQR) and the symmetry of the distribution around the median."
   ]
  },
  {
   "cell_type": "markdown",
   "id": "91477ca6",
   "metadata": {},
   "source": [
    "### Your turn\n",
    "\n",
    "Try to calculate the IQR Kurtosis coefficient for the sample data:"
   ]
  },
  {
   "cell_type": "code",
   "id": "28d0d68e",
   "metadata": {
    "ExecuteTime": {
     "end_time": "2025-05-11T18:56:38.608595Z",
     "start_time": "2025-05-11T18:56:38.605624Z"
    }
   },
   "source": [
    "mydata = [3, 7, 8, 5, 12, 14, 21, 13, 18]\n",
    "# Your code here"
   ],
   "outputs": [],
   "execution_count": 105
  },
  {
   "cell_type": "markdown",
   "id": "9087642f",
   "metadata": {},
   "source": [
    "## Summary statistics\n",
    "\n",
    "A great tool for creating elegant summaries of descriptive statistics in Markdown format (ideal for Jupyter Notebooks) is pandas, especially in combination with the .describe() function and tabulate.\n",
    "\n",
    "Example with pandas + tabulate (a nice table in Markdown):"
   ]
  },
  {
   "cell_type": "code",
   "id": "6888047f",
   "metadata": {
    "ExecuteTime": {
     "end_time": "2025-05-11T18:56:38.657135Z",
     "start_time": "2025-05-11T18:56:38.645133Z"
    }
   },
   "source": [
    "from scipy.stats import skew, kurtosis\n",
    "from tabulate import tabulate\n",
    "\n",
    "def markdown_summary(df, round_decimals=3):\n",
    "    summary = df.describe().T  # transpose so that the variables are in rows\n",
    "    # Add skewness and kurtosis\n",
    "    summary['Skewness'] = df.skew()\n",
    "    summary['Kurtosis'] = df.kurt()\n",
    "    # Rounding up the results\n",
    "    summary = summary.round(round_decimals)\n",
    "    # Nice summary table!\n",
    "    return tabulate(summary, headers='keys', tablefmt='github')"
   ],
   "outputs": [],
   "execution_count": 106
  },
  {
   "cell_type": "code",
   "id": "01600c27",
   "metadata": {
    "ExecuteTime": {
     "end_time": "2025-05-11T18:56:38.684334Z",
     "start_time": "2025-05-11T18:56:38.664721Z"
    }
   },
   "source": [
    "# We select only the numerical columns for analysis:\n",
    "quantitative = df_pokemon.select_dtypes(include='number')\n",
    "\n",
    "# We use our function:\n",
    "print(markdown_summary(quantitative))"
   ],
   "outputs": [
    {
     "name": "stdout",
     "output_type": "stream",
     "text": [
      "|            |   count |    mean |     std |   min |    25% |   50% |    75% |   max |   Skewness |   Kurtosis |\n",
      "|------------|---------|---------|---------|-------|--------|-------|--------|-------|------------|------------|\n",
      "| #          |     800 | 362.814 | 208.344 |     1 | 184.75 | 364.5 | 539.25 |   721 |     -0.001 |     -1.166 |\n",
      "| Total      |     800 | 435.102 | 119.963 |   180 | 330    | 450   | 515    |   780 |      0.153 |     -0.507 |\n",
      "| HP         |     800 |  69.259 |  25.535 |     1 |  50    |  65   |  80    |   255 |      1.568 |      7.232 |\n",
      "| Attack     |     800 |  79.001 |  32.457 |     5 |  55    |  75   | 100    |   190 |      0.552 |      0.17  |\n",
      "| Defense    |     800 |  73.842 |  31.184 |     5 |  50    |  70   |  90    |   230 |      1.156 |      2.726 |\n",
      "| Sp. Atk    |     800 |  72.82  |  32.722 |    10 |  49.75 |  65   |  95    |   194 |      0.745 |      0.298 |\n",
      "| Sp. Def    |     800 |  71.902 |  27.829 |    20 |  50    |  70   |  90    |   230 |      0.854 |      1.628 |\n",
      "| Speed      |     800 |  68.278 |  29.06  |     5 |  45    |  65   |  90    |   180 |      0.358 |     -0.236 |\n",
      "| Generation |     800 |   3.324 |   1.661 |     1 |   2    |   3   |   5    |     6 |      0.014 |     -1.24  |\n"
     ]
    }
   ],
   "execution_count": 107
  },
  {
   "cell_type": "markdown",
   "id": "fa5b7e75",
   "metadata": {},
   "source": [
    "To make a summary table cross-sectionally (i.e. **by group**), you need to use the groupby() method on the DataFrame and then, for example, describe() or your own aggregate function. \n",
    "\n",
    "Let's say you want to group the data by the ‘Type 1’ column (i.e. e.g. Pokémon type: Fire, Water, etc.) and then summarise the quantitative variables (mean, variance, min, max, etc.)."
   ]
  },
  {
   "cell_type": "code",
   "id": "c1396468",
   "metadata": {
    "ExecuteTime": {
     "end_time": "2025-05-11T18:56:38.871258Z",
     "start_time": "2025-05-11T18:56:38.708904Z"
    }
   },
   "source": [
    "# Grouping by ‘Type 1’ column and statistical summary of numeric columns:\n",
    "group_summary = df_pokemon.groupby('Type 1')[quantitative.columns].describe()\n",
    "print(group_summary)"
   ],
   "outputs": [
    {
     "name": "stdout",
     "output_type": "stream",
     "text": [
      "              #                                                               \\\n",
      "          count        mean         std    min     25%    50%     75%    max   \n",
      "Type 1                                                                         \n",
      "Bug        69.0  334.492754  210.445160   10.0  168.00  291.0  543.00  666.0   \n",
      "Dark       31.0  461.354839  176.022072  197.0  282.00  509.0  627.00  717.0   \n",
      "Dragon     32.0  474.375000  170.190169  147.0  373.00  443.5  643.25  718.0   \n",
      "Electric   44.0  363.500000  202.731063   25.0  179.75  403.5  489.75  702.0   \n",
      "Fairy      17.0  449.529412  271.983942   35.0  176.00  669.0  683.00  716.0   \n",
      "Fighting   27.0  363.851852  218.565200   56.0  171.50  308.0  536.00  701.0   \n",
      "Fire       52.0  327.403846  226.262840    4.0  143.50  289.5  513.25  721.0   \n",
      "Flying      4.0  677.750000   42.437209  641.0  641.00  677.5  714.25  715.0   \n",
      "Ghost      32.0  486.500000  209.189218   92.0  354.75  487.0  709.25  711.0   \n",
      "Grass      70.0  344.871429  200.264385    1.0  187.25  372.0  496.75  673.0   \n",
      "Ground     32.0  356.281250  204.899855   27.0  183.25  363.5  535.25  645.0   \n",
      "Ice        24.0  423.541667  175.465834  124.0  330.25  371.5  583.25  713.0   \n",
      "Normal     98.0  319.173469  193.854820   16.0  161.25  296.5  483.00  676.0   \n",
      "Poison     28.0  251.785714  228.801767   23.0   33.75  139.5  451.25  691.0   \n",
      "Psychic    57.0  380.807018  194.600455   63.0  201.00  386.0  528.00  720.0   \n",
      "Rock       44.0  392.727273  213.746140   74.0  230.75  362.5  566.25  719.0   \n",
      "Steel      27.0  442.851852  164.847180  208.0  305.50  379.0  600.50  707.0   \n",
      "Water     112.0  303.089286  188.440807    7.0  130.00  275.0  456.25  693.0   \n",
      "\n",
      "          Total              ...   Speed        Generation            \\\n",
      "          count        mean  ...     75%    max      count      mean   \n",
      "Type 1                       ...                                       \n",
      "Bug        69.0  378.927536  ...   85.00  160.0       69.0  3.217391   \n",
      "Dark       31.0  445.741935  ...   98.50  125.0       31.0  4.032258   \n",
      "Dragon     32.0  550.531250  ...   97.75  120.0       32.0  3.875000   \n",
      "Electric   44.0  443.409091  ...  101.50  140.0       44.0  3.272727   \n",
      "Fairy      17.0  413.176471  ...   60.00   99.0       17.0  4.117647   \n",
      "Fighting   27.0  416.444444  ...   86.00  118.0       27.0  3.370370   \n",
      "Fire       52.0  458.076923  ...   96.25  126.0       52.0  3.211538   \n",
      "Flying      4.0  485.000000  ...  121.50  123.0        4.0  5.500000   \n",
      "Ghost      32.0  439.562500  ...   84.25  130.0       32.0  4.187500   \n",
      "Grass      70.0  421.142857  ...   80.00  145.0       70.0  3.357143   \n",
      "Ground     32.0  437.500000  ...   90.00  120.0       32.0  3.156250   \n",
      "Ice        24.0  433.458333  ...   80.00  110.0       24.0  3.541667   \n",
      "Normal     98.0  401.683673  ...   90.75  135.0       98.0  3.051020   \n",
      "Poison     28.0  399.142857  ...   77.00  130.0       28.0  2.535714   \n",
      "Psychic    57.0  475.947368  ...  104.00  180.0       57.0  3.385965   \n",
      "Rock       44.0  453.750000  ...   70.00  150.0       44.0  3.454545   \n",
      "Steel      27.0  487.703704  ...   70.00  110.0       27.0  3.851852   \n",
      "Water     112.0  430.455357  ...   82.00  122.0      112.0  2.857143   \n",
      "\n",
      "                                               \n",
      "               std  min   25%  50%   75%  max  \n",
      "Type 1                                         \n",
      "Bug       1.598433  1.0  2.00  3.0  5.00  6.0  \n",
      "Dark      1.353609  2.0  3.00  5.0  5.00  6.0  \n",
      "Dragon    1.431219  1.0  3.00  4.0  5.00  6.0  \n",
      "Electric  1.604697  1.0  2.00  4.0  4.25  6.0  \n",
      "Fairy     2.147160  1.0  2.00  6.0  6.00  6.0  \n",
      "Fighting  1.800601  1.0  1.50  3.0  5.00  6.0  \n",
      "Fire      1.850665  1.0  1.00  3.0  5.00  6.0  \n",
      "Flying    0.577350  5.0  5.00  5.5  6.00  6.0  \n",
      "Ghost     1.693203  1.0  3.00  4.0  6.00  6.0  \n",
      "Grass     1.579173  1.0  2.00  3.5  5.00  6.0  \n",
      "Ground    1.588454  1.0  1.75  3.0  5.00  5.0  \n",
      "Ice       1.473805  1.0  2.75  3.0  5.00  6.0  \n",
      "Normal    1.575407  1.0  2.00  3.0  4.00  6.0  \n",
      "Poison    1.752927  1.0  1.00  1.5  4.00  6.0  \n",
      "Psychic   1.644845  1.0  2.00  3.0  5.00  6.0  \n",
      "Rock      1.848375  1.0  2.00  3.0  5.00  6.0  \n",
      "Steel     1.350319  2.0  3.00  3.0  5.00  6.0  \n",
      "Water     1.558800  1.0  1.00  3.0  4.00  6.0  \n",
      "\n",
      "[18 rows x 72 columns]\n"
     ]
    }
   ],
   "execution_count": 108
  },
  {
   "cell_type": "markdown",
   "id": "b0301eed",
   "metadata": {},
   "source": [
    "## Cross-sectional analysis\n",
    "\n",
    "Let's try to calculate all those statistics by group i.e. perform descriptive analysis for Attack points by Legendary (for legendary and not legendary pokemons.)"
   ]
  },
  {
   "cell_type": "code",
   "id": "bc72bb92",
   "metadata": {
    "ExecuteTime": {
     "end_time": "2025-05-11T18:56:38.911635Z",
     "start_time": "2025-05-11T18:56:38.900729Z"
    }
   },
   "source": [
    "grouped_attack = df_pokemon.groupby('Legendary')['Attack']\n",
    "grouped_summary = grouped_attack.describe()\n",
    "# let's add skewness and kurtosis now:\n",
    "grouped_summary['Skewness'] = grouped_attack.apply(lambda x: x.skew())\n",
    "grouped_summary['Kurtosis'] = grouped_attack.apply(lambda x: x.kurt())\n",
    "from tabulate import tabulate\n",
    "print(tabulate(grouped_summary, headers='keys', tablefmt='github'))  #summary in markdown table now"
   ],
   "outputs": [
    {
     "name": "stdout",
     "output_type": "stream",
     "text": [
      "| Legendary   |   count |     mean |     std |   min |   25% |   50% |   75% |   max |   Skewness |   Kurtosis |\n",
      "|-------------|---------|----------|---------|-------|-------|-------|-------|-------|------------|------------|\n",
      "| False       |     735 |  75.6694 | 30.4902 |     5 |  54.5 |    72 |    95 |   185 |   0.523333 |   0.145037 |\n",
      "| True        |      65 | 116.677  | 30.348  |    50 | 100   |   110 |   131 |   190 |   0.50957  |  -0.18957  |\n"
     ]
    }
   ],
   "execution_count": 109
  },
  {
   "cell_type": "markdown",
   "id": "3589a54b",
   "metadata": {},
   "source": [
    "### Your turn!\n",
    "\n",
    "Add some cross-sectional plots and try to interpret the results."
   ]
  },
  {
   "cell_type": "code",
   "id": "96dbf902",
   "metadata": {
    "ExecuteTime": {
     "end_time": "2025-05-11T18:59:40.284472Z",
     "start_time": "2025-05-11T18:59:40.017601Z"
    }
   },
   "source": [
    "fig, (ax1, ax2) = plt.subplots(1, 2, sharey=False)\n",
    "\n",
    "sns.histplot(data=df_pokemon[df_pokemon['Legendary'] == False], x='Attack', ax=ax1)\n",
    "axes[0].set_xlabel('Attack')\n",
    "axes[0].set_ylabel('Count')\n",
    "\n",
    "sns.histplot(data=df_pokemon[df_pokemon['Legendary'] == True], x='Attack', ax=ax2, bins=20)\n",
    "axes[1].set_xlabel('Attack')\n",
    "axes[1].set_ylabel('Count')\n",
    "\n",
    "plt.show()\n",
    "\n",
    "sns.boxplot(data=df_pokemon, x='Legendary', y='Attack')\n",
    "plt.xlabel('Legendary')\n",
    "plt.ylabel('Attack')\n",
    "plt.show()"
   ],
   "outputs": [
    {
     "data": {
      "text/plain": [
       "<Figure size 640x480 with 2 Axes>"
      ],
      "image/png": "[encoded data removed]"
     },
     "metadata": {
      "image/png": {
       "width": 567,
       "height": 430
      }
     },
     "output_type": "display_data"
    },
    {
     "data": {
      "text/plain": [
       "<Figure size 640x480 with 1 Axes>"
      ],
      "image/png": "[encoded data removed]"
     },
     "metadata": {
      "image/png": {
       "width": 567,
       "height": 430
      }
     },
     "output_type": "display_data"
    }
   ],
   "execution_count": 112
  },
  {
   "cell_type": "markdown",
   "id": "0f85c721",
   "metadata": {},
   "source": [
    "### Quiz answers on measurement scales:\n",
    "1. B  \n",
    "2. C  \n",
    "3. C  \n",
    "4. C  \n",
    "5. D"
   ]
  }
 ],
 "metadata": {
  "celltoolbar": "Slideshow",
  "kernelspec": {
   "display_name": "Python 3",
   "language": "python",
   "name": "python3"
  },
  "language_info": {
   "codemirror_mode": {
    "name": "ipython",
    "version": 3
   },
   "file_extension": ".py",
   "mimetype": "text/x-python",
   "name": "python",
   "nbconvert_exporter": "python",
   "pygments_lexer": "ipython3",
   "version": "3.13.2"
  }
 },
 "nbformat": 4,
 "nbformat_minor": 5
}
